{
 "cells": [
  {
   "cell_type": "code",
   "execution_count": 1,
   "metadata": {},
   "outputs": [],
   "source": [
    "import pandas as pd\n",
    "import re\n",
    "import numpy\n",
    "import pickle"
   ]
  },
  {
   "cell_type": "code",
   "execution_count": 2,
   "metadata": {},
   "outputs": [],
   "source": [
    "from nltk.corpus import stopwords\n",
    "import spacy"
   ]
  },
  {
   "cell_type": "code",
   "execution_count": 3,
   "metadata": {},
   "outputs": [],
   "source": [
    "from sklearn.feature_extraction.text import TfidfVectorizer, CountVectorizer"
   ]
  },
  {
   "cell_type": "code",
   "execution_count": 4,
   "metadata": {},
   "outputs": [],
   "source": [
    "df =  pd.read_csv('base_data/pride_table.csv').astype(str)"
   ]
  },
  {
   "cell_type": "code",
   "execution_count": 5,
   "metadata": {},
   "outputs": [
    {
     "data": {
      "text/html": [
       "<div>\n",
       "<style scoped>\n",
       "    .dataframe tbody tr th:only-of-type {\n",
       "        vertical-align: middle;\n",
       "    }\n",
       "\n",
       "    .dataframe tbody tr th {\n",
       "        vertical-align: top;\n",
       "    }\n",
       "\n",
       "    .dataframe thead th {\n",
       "        text-align: right;\n",
       "    }\n",
       "</style>\n",
       "<table border=\"1\" class=\"dataframe\">\n",
       "  <thead>\n",
       "    <tr style=\"text-align: right;\">\n",
       "      <th></th>\n",
       "      <th>dataset_id</th>\n",
       "      <th>sample_protocol</th>\n",
       "      <th>data_protocol</th>\n",
       "      <th>description</th>\n",
       "      <th>instruments</th>\n",
       "      <th>exp_types</th>\n",
       "      <th>quant_methods</th>\n",
       "      <th>labhead_fullname</th>\n",
       "    </tr>\n",
       "  </thead>\n",
       "  <tbody>\n",
       "    <tr>\n",
       "      <th>0</th>\n",
       "      <td>PXD000001</td>\n",
       "      <td>Not available</td>\n",
       "      <td>Two extra files have been added post-publicati...</td>\n",
       "      <td>Expected reporter ion ratios: Erwinia peptides...</td>\n",
       "      <td>LTQ Orbitrap Velos, instrument model</td>\n",
       "      <td>Bottom-up proteomics</td>\n",
       "      <td>nan</td>\n",
       "      <td>nan</td>\n",
       "    </tr>\n",
       "    <tr>\n",
       "      <th>1</th>\n",
       "      <td>PXD000002</td>\n",
       "      <td>Not available</td>\n",
       "      <td>Not available</td>\n",
       "      <td>Human saliva samples from a 36 year old male w...</td>\n",
       "      <td>instrument model, LTQ Velos</td>\n",
       "      <td>Bottom-up proteomics</td>\n",
       "      <td>nan</td>\n",
       "      <td>nan</td>\n",
       "    </tr>\n",
       "  </tbody>\n",
       "</table>\n",
       "</div>"
      ],
      "text/plain": [
       "  dataset_id sample_protocol  \\\n",
       "0  PXD000001   Not available   \n",
       "1  PXD000002   Not available   \n",
       "\n",
       "                                       data_protocol  \\\n",
       "0  Two extra files have been added post-publicati...   \n",
       "1                                      Not available   \n",
       "\n",
       "                                         description  \\\n",
       "0  Expected reporter ion ratios: Erwinia peptides...   \n",
       "1  Human saliva samples from a 36 year old male w...   \n",
       "\n",
       "                            instruments             exp_types quant_methods  \\\n",
       "0  LTQ Orbitrap Velos, instrument model  Bottom-up proteomics           nan   \n",
       "1           instrument model, LTQ Velos  Bottom-up proteomics           nan   \n",
       "\n",
       "  labhead_fullname  \n",
       "0              nan  \n",
       "1              nan  "
      ]
     },
     "execution_count": 5,
     "metadata": {},
     "output_type": "execute_result"
    }
   ],
   "source": [
    "df.head(2)"
   ]
  },
  {
   "cell_type": "code",
   "execution_count": 6,
   "metadata": {},
   "outputs": [],
   "source": [
    "method = df['sample_protocol'][(df['sample_protocol'] != 'Not available') & (df['sample_protocol'] != 'nan')].reset_index(drop=True)"
   ]
  },
  {
   "cell_type": "code",
   "execution_count": 7,
   "metadata": {},
   "outputs": [],
   "source": [
    "# list of stop words\n",
    "stop_words = stopwords.words('english')\n",
    "\n",
    "# Import spacy model\n",
    "nlp = spacy.load('en_core_web_lg')"
   ]
  },
  {
   "cell_type": "code",
   "execution_count": 8,
   "metadata": {},
   "outputs": [],
   "source": [
    "def lemmatize_text(text):\n",
    "    doc = nlp(text)\n",
    "    lemm_text = [token.lemma_.lower() for token in doc]\n",
    "    \n",
    "    lemm_text = ' '.join(lemm_text)\n",
    "    lemm_text = lemm_text.replace(' - ', '-')\n",
    "    lemm_text = lemm_text.replace(' .', '.')\n",
    "    lemm_text = lemm_text.replace(' ,', ',')\n",
    "    lemm_text = lemm_text.replace('( ', '(')\n",
    "    lemm_text = lemm_text.replace(' )', ')')\n",
    "    lemm_text = lemm_text.replace(' / ', '/')\n",
    "    \n",
    "    lemm_text = lemm_text.replace('\\u2009', '')    # This is a special case applicable to iloc[0]\n",
    "    \n",
    "    return lemm_text"
   ]
  },
  {
   "cell_type": "code",
   "execution_count": 9,
   "metadata": {},
   "outputs": [],
   "source": [
    "test_doc = [lemmatize_text(method.iloc[i]) for i in range(10)]"
   ]
  },
  {
   "cell_type": "markdown",
   "metadata": {},
   "source": [
    "#### Test case to figure out processing time"
   ]
  },
  {
   "cell_type": "code",
   "execution_count": 10,
   "metadata": {},
   "outputs": [
    {
     "data": {
      "text/plain": [
       "4390"
      ]
     },
     "execution_count": 10,
     "metadata": {},
     "output_type": "execute_result"
    }
   ],
   "source": [
    "len(method)"
   ]
  },
  {
   "cell_type": "code",
   "execution_count": 11,
   "metadata": {},
   "outputs": [],
   "source": [
    "n = len(method)"
   ]
  },
  {
   "cell_type": "code",
   "execution_count": 12,
   "metadata": {},
   "outputs": [
    {
     "name": "stdout",
     "output_type": "stream",
     "text": [
      "CPU times: user 10min 52s, sys: 12min 2s, total: 22min 55s\n",
      "Wall time: 3min 12s\n"
     ]
    }
   ],
   "source": [
    "%%time\n",
    "doc = [lemmatize_text(method.iloc[i]) for i in range(n)]"
   ]
  },
  {
   "cell_type": "code",
   "execution_count": 13,
   "metadata": {},
   "outputs": [
    {
     "name": "stdout",
     "output_type": "stream",
     "text": [
      "CPU times: user 984 ms, sys: 231 ms, total: 1.21 s\n",
      "Wall time: 941 ms\n"
     ]
    }
   ],
   "source": [
    "%%time\n",
    "vectorizer = TfidfVectorizer(analyzer='word',  strip_accents='ascii', ngram_range=(3, 3), stop_words='english')\n",
    "bigram_tfidf = vectorizer.fit_transform(doc)"
   ]
  },
  {
   "cell_type": "code",
   "execution_count": 14,
   "metadata": {},
   "outputs": [
    {
     "name": "stdout",
     "output_type": "stream",
     "text": [
      "CPU times: user 877 ms, sys: 18.5 ms, total: 896 ms\n",
      "Wall time: 896 ms\n"
     ]
    }
   ],
   "source": [
    "%%time\n",
    "vectorizer2 = CountVectorizer(analyzer='word',  strip_accents='ascii', ngram_range=(3, 3), stop_words='english')\n",
    "bigram_count= vectorizer2.fit_transform(doc)"
   ]
  },
  {
   "cell_type": "code",
   "execution_count": 15,
   "metadata": {},
   "outputs": [],
   "source": [
    "x = pd.DataFrame(bigram_count.toarray(), columns=vectorizer2.get_feature_names())"
   ]
  },
  {
   "cell_type": "code",
   "execution_count": 16,
   "metadata": {
    "scrolled": true
   },
   "outputs": [
    {
     "data": {
      "text/plain": [
       "lc ms ms                           866\n",
       "thermo fisher scientific           514\n",
       "ms ms analysis                     422\n",
       "mm ammonium bicarbonate            352\n",
       "acetonitrile formic acid           325\n",
       "mass spectrometer thermo           315\n",
       "ltq orbitrap velos                 287\n",
       "tris hcl ph                        248\n",
       "ms ms scan                         237\n",
       "mm tris hcl                        235\n",
       "300 nl min                         224\n",
       "50 mm ammonium                     180\n",
       "protease inhibitor cocktail        165\n",
       "50 mm tris                         162\n",
       "flow rate 300                      160\n",
       "linear ion trap                    159\n",
       "rate 300 nl                        154\n",
       "collision induce dissociation      154\n",
       "protein concentration determine    151\n",
       "normalize collision energy         148\n",
       "sds page gel                       142\n",
       "10 mm dtt                          141\n",
       "orbitrap mass spectrometer         140\n",
       "tandem mass spectrometry           140\n",
       "accord manufacturer instruction    140\n",
       "ltq orbitrap xl                    139\n",
       "spectrometer thermo scientific     136\n",
       "ms ms spectra                      135\n",
       "ms ms ms                           134\n",
       "strong cation exchange             127\n",
       "min room temperature               125\n",
       "spectrometer thermo fisher         124\n",
       "analyze lc ms                      120\n",
       "data dependent mode                118\n",
       "velos mass spectrometer            118\n",
       "mm tris ph                         117\n",
       "normalized collision energy        114\n",
       "min flow rate                      114\n",
       "orbitrap velos mass                113\n",
       "mass spectrometer operate          113\n",
       "exactive mass spectrometer         111\n",
       "maximum injection time             110\n",
       "solvent formic acid                108\n",
       "formic acid acetonitrile           104\n",
       "formic acid fa                     102\n",
       "ms ms use                          102\n",
       "trifluoroacetic acid tfa           100\n",
       "acn formic acid                    100\n",
       "mm hepes ph                         99\n",
       "operate data dependent              98\n",
       "dtype: int64"
      ]
     },
     "execution_count": 16,
     "metadata": {},
     "output_type": "execute_result"
    }
   ],
   "source": [
    "x.sum(axis=0).sort_values(ascending=False).head(50)"
   ]
  },
  {
   "cell_type": "code",
   "execution_count": 20,
   "metadata": {},
   "outputs": [
    {
     "data": {
      "text/plain": [
       "['label free amino',\n",
       " 'label free analysis',\n",
       " 'label free approach',\n",
       " 'label free data',\n",
       " 'label free differential',\n",
       " 'label free experiment',\n",
       " 'label free expression',\n",
       " 'label free itraq',\n",
       " 'label free lc',\n",
       " 'label free mass',\n",
       " 'label free multiscreen',\n",
       " 'label free optional',\n",
       " 'label free protein',\n",
       " 'label free proteome',\n",
       " 'label free proteomic',\n",
       " 'label free quantification',\n",
       " 'label free quantitation',\n",
       " 'label free quantitative',\n",
       " 'label free relative',\n",
       " 'label free repeat',\n",
       " 'label free silac',\n",
       " 'label free strategy']"
      ]
     },
     "execution_count": 20,
     "metadata": {},
     "output_type": "execute_result"
    }
   ],
   "source": [
    "[col for col in x.columns if col.startswith('label free')]"
   ]
  },
  {
   "cell_type": "code",
   "execution_count": 21,
   "metadata": {},
   "outputs": [
    {
     "data": {
      "text/plain": [
       "label free amino              2\n",
       "label free analysis           6\n",
       "label free approach           2\n",
       "label free data               1\n",
       "label free differential       1\n",
       "label free experiment         1\n",
       "label free expression         4\n",
       "label free itraq              1\n",
       "label free lc                 4\n",
       "label free mass               4\n",
       "label free multiscreen        1\n",
       "label free optional           1\n",
       "label free protein            1\n",
       "label free proteome           1\n",
       "label free proteomic          2\n",
       "label free quantification    20\n",
       "label free quantitation       5\n",
       "label free quantitative       4\n",
       "label free relative           2\n",
       "label free repeat             1\n",
       "label free silac              1\n",
       "label free strategy           1\n",
       "dtype: int64"
      ]
     },
     "execution_count": 21,
     "metadata": {},
     "output_type": "execute_result"
    }
   ],
   "source": [
    "x[[col for col in x.columns if col.startswith('label free')]].sum(axis=0)"
   ]
  },
  {
   "cell_type": "code",
   "execution_count": 22,
   "metadata": {},
   "outputs": [
    {
     "data": {
      "text/plain": [
       "['spectra 000 000',\n",
       " 'spectra 000 count',\n",
       " 'spectra 10 abundant',\n",
       " 'spectra 106 charge',\n",
       " 'spectra 12 precursor',\n",
       " 'spectra 15 ion',\n",
       " 'spectra 17500 resolution',\n",
       " 'spectra 20 abundant',\n",
       " 'spectra 20 datum',\n",
       " 'spectra 200 precursor',\n",
       " 'spectra 2002000 acquire',\n",
       " 'spectra 300 1200',\n",
       " 'spectra 300 1600',\n",
       " 'spectra 300 1650',\n",
       " 'spectra 300 1700',\n",
       " 'spectra 300 1800',\n",
       " 'spectra 300 2000',\n",
       " 'spectra 300 500',\n",
       " 'spectra 3001500 acquire',\n",
       " 'spectra 3001650 70',\n",
       " 'spectra 3001650 analyze',\n",
       " 'spectra 3001700 acquire',\n",
       " 'spectra 3002000 acquire',\n",
       " 'spectra 3002000 intact',\n",
       " 'spectra 3102000 acquire',\n",
       " 'spectra 335 1800',\n",
       " 'spectra 3351800 profile',\n",
       " 'spectra 350 1250',\n",
       " 'spectra 350 1250m',\n",
       " 'spectra 350 1500',\n",
       " 'spectra 350 1600',\n",
       " 'spectra 350 1850',\n",
       " 'spectra 350 2000',\n",
       " 'spectra 350 600',\n",
       " 'spectra 375 1600',\n",
       " 'spectra 375 2000',\n",
       " 'spectra 400 2000',\n",
       " 'spectra 400 800',\n",
       " 'spectra 4001600 acquire',\n",
       " 'spectra 50 5000',\n",
       " 'spectra 7500 resolution',\n",
       " 'spectra 8plex 300',\n",
       " 'spectra abundant ion',\n",
       " 'spectra abundant precursor',\n",
       " 'spectra accumulate 200ms',\n",
       " 'spectra accumulation experiment',\n",
       " 'spectra acquire 120',\n",
       " 'spectra acquire 15',\n",
       " 'spectra acquire 300',\n",
       " 'spectra acquire 3002000',\n",
       " 'spectra acquire 315',\n",
       " 'spectra acquire 350',\n",
       " 'spectra acquire 70',\n",
       " 'spectra acquire ab',\n",
       " 'spectra acquire applied',\n",
       " 'spectra acquire centroid',\n",
       " 'spectra acquire cid',\n",
       " 'spectra acquire collision',\n",
       " 'spectra acquire complete',\n",
       " 'spectra acquire continuum',\n",
       " 'spectra acquire data',\n",
       " 'spectra acquire datum',\n",
       " 'spectra acquire exactive',\n",
       " 'spectra acquire ft',\n",
       " 'spectra acquire gas',\n",
       " 'spectra acquire hcd',\n",
       " 'spectra acquire high',\n",
       " 'spectra acquire intense',\n",
       " 'spectra acquire intensity',\n",
       " 'spectra acquire ion',\n",
       " 'spectra acquire linear',\n",
       " 'spectra acquire ltq',\n",
       " 'spectra acquire mass',\n",
       " 'spectra acquire microscan',\n",
       " 'spectra acquire minimum',\n",
       " 'spectra acquire normalized',\n",
       " 'spectra acquire orbitrap',\n",
       " 'spectra acquire positive',\n",
       " 'spectra acquire presence',\n",
       " 'spectra acquire profile',\n",
       " 'spectra acquire qsatr',\n",
       " 'spectra acquire range',\n",
       " 'spectra acquire rapid',\n",
       " 'spectra acquire resolution',\n",
       " 'spectra acquire sample',\n",
       " 'spectra acquire survey',\n",
       " 'spectra acquire target',\n",
       " 'spectra acquire tune',\n",
       " 'spectra acquire ultraflex',\n",
       " 'spectra acquire use',\n",
       " 'spectra acquisition 15',\n",
       " 'spectra acquisition early',\n",
       " 'spectra acquisition instrument',\n",
       " 'spectra acquisition mass',\n",
       " 'spectra acquisition method',\n",
       " 'spectra acquisition perform',\n",
       " 'spectra agc 1x106',\n",
       " 'spectra allow itraq',\n",
       " 'spectra analyse previously',\n",
       " 'spectra analyse use',\n",
       " 'spectra analyze resolution',\n",
       " 'spectra analyze use',\n",
       " 'spectra assign fragment',\n",
       " 'spectra automatic gain',\n",
       " 'spectra automatic switching',\n",
       " 'spectra average scan',\n",
       " 'spectra base survey',\n",
       " 'spectra baseline subtraction',\n",
       " 'spectra calibrate internally',\n",
       " 'spectra chimeric contain',\n",
       " 'spectra chromatographic peak',\n",
       " 'spectra collect 100',\n",
       " 'spectra collect 1001500',\n",
       " 'spectra collect 17',\n",
       " 'spectra collect 20',\n",
       " 'spectra collect 2000',\n",
       " 'spectra collect 350',\n",
       " 'spectra collect 400',\n",
       " 'spectra collect abundant',\n",
       " 'spectra collect entirety',\n",
       " 'spectra collect exactive',\n",
       " 'spectra collect high',\n",
       " 'spectra collect mass',\n",
       " 'spectra collect orbitrap',\n",
       " 'spectra collect positive',\n",
       " 'spectra collect range',\n",
       " 'spectra collect resolution',\n",
       " 'spectra collect use',\n",
       " 'spectra compare 35',\n",
       " 'spectra compound previously',\n",
       " 'spectra compound pron',\n",
       " 'spectra concurrently acquire',\n",
       " 'spectra correspond accumulation',\n",
       " 'spectra cycle sec',\n",
       " 'spectra cycle technical',\n",
       " 'spectra cycle use',\n",
       " 'spectra data dependent',\n",
       " 'spectra dda dia',\n",
       " 'spectra deisotop process',\n",
       " 'spectra doubly triply',\n",
       " 'spectra dynamic exclusion',\n",
       " 'spectra elute peptide',\n",
       " 'spectra enrich intact',\n",
       " 'spectra entire sample',\n",
       " 'spectra exclude spectra',\n",
       " 'spectra exclusion release',\n",
       " 'spectra experiment dynamic',\n",
       " 'spectra export database',\n",
       " 'spectra f15 precursor',\n",
       " 'spectra fix mass',\n",
       " 'spectra fragmentation method',\n",
       " 'spectra fragmented ion',\n",
       " 'spectra generate hcd',\n",
       " 'spectra generate orbitrap',\n",
       " 'spectra generate use',\n",
       " 'spectra identify 1196',\n",
       " 'spectra internally calibrate',\n",
       " 'spectra ion direct',\n",
       " 'spectra isolation fragmentation',\n",
       " 'spectra isolation window',\n",
       " 'spectra lc ms',\n",
       " 'spectra mass charge',\n",
       " 'spectra mass range',\n",
       " 'spectra mass spectra',\n",
       " 'spectra measure high',\n",
       " 'spectra microscan 17',\n",
       " 'spectra min threshold',\n",
       " 'spectra minimum signal',\n",
       " 'spectra ms ms',\n",
       " 'spectra ms scan',\n",
       " 'spectra ms1 acquire',\n",
       " 'spectra ms2 acquire',\n",
       " 'spectra ms2 spectrum',\n",
       " 'spectra normalized collision',\n",
       " 'spectra obtain automatic',\n",
       " 'spectra obtain cid',\n",
       " 'spectra obtain data',\n",
       " 'spectra obtain duty',\n",
       " 'spectra obtain fragmentation',\n",
       " 'spectra obtain hcd',\n",
       " 'spectra obtain minimal',\n",
       " 'spectra obtain resolution',\n",
       " 'spectra obtain total',\n",
       " 'spectra obtain use',\n",
       " 'spectra open analyst',\n",
       " 'spectra parent ion',\n",
       " 'spectra peptide collect',\n",
       " 'spectra peptide high',\n",
       " 'spectra peptide mass',\n",
       " 'spectra precursor charge',\n",
       " 'spectra precursor ion',\n",
       " 'spectra precursor mass',\n",
       " 'spectra precursor period',\n",
       " 'spectra predict protein',\n",
       " 'spectra process version',\n",
       " 'spectra produce collision',\n",
       " 'spectra produce datum',\n",
       " 'spectra produce high',\n",
       " 'spectra profile mode',\n",
       " 'spectra protein identification',\n",
       " 'spectra protein patient',\n",
       " 'spectra range 300',\n",
       " 'spectra range 370',\n",
       " 'spectra range 380',\n",
       " 'spectra rate hz',\n",
       " 'spectra record 100',\n",
       " 'spectra record 100000',\n",
       " 'spectra record 60',\n",
       " 'spectra record additionally',\n",
       " 'spectra record centroid',\n",
       " 'spectra record data',\n",
       " 'spectra record datum',\n",
       " 'spectra record high',\n",
       " 'spectra record linear',\n",
       " 'spectra record ltq',\n",
       " 'spectra record mass',\n",
       " 'spectra record orbitrap',\n",
       " 'spectra record oribitrap',\n",
       " 'spectra record peptide',\n",
       " 'spectra record positive',\n",
       " 'spectra record profile',\n",
       " 'spectra record range',\n",
       " 'spectra record resolution',\n",
       " 'spectra record target',\n",
       " 'spectra release min',\n",
       " 'spectra repeat continuously',\n",
       " 'spectra resolution 17500',\n",
       " 'spectra resolution 500',\n",
       " 'spectra resolution 70',\n",
       " 'spectra respectively ms',\n",
       " 'spectra sample desalt',\n",
       " 'spectra scan acquire',\n",
       " 'spectra scan perform',\n",
       " 'spectra scan pron',\n",
       " 'spectra search andromeda',\n",
       " 'spectra search match',\n",
       " 'spectra search non',\n",
       " 'spectra search reverse',\n",
       " 'spectra search uniprot_arabidopsis',\n",
       " 'spectra search use',\n",
       " 'spectra sec alternate',\n",
       " 'spectra sec cycle',\n",
       " 'spectra sec ms',\n",
       " 'spectra sec sample',\n",
       " 'spectra second 12',\n",
       " 'spectra second collision',\n",
       " 'spectra second datum',\n",
       " 'spectra second medium',\n",
       " 'spectra second precursor',\n",
       " 'spectra second tandem',\n",
       " 'spectra select ms',\n",
       " 'spectra set 100',\n",
       " 'spectra set 17',\n",
       " 'spectra signal intensity',\n",
       " 'spectra speed mode',\n",
       " 'spectra store abi',\n",
       " 'spectra subject datum',\n",
       " 'spectra sum individual',\n",
       " 'spectra sum scan',\n",
       " 'spectra survey scan',\n",
       " 'spectra trypsin digest',\n",
       " 'spectra use 10',\n",
       " 'spectra use identify',\n",
       " 'spectra zee britton',\n",
       " 'spectral abundance factor',\n",
       " 'spectral analysis purify',\n",
       " 'spectral count analysis',\n",
       " 'spectral count great',\n",
       " 'spectral counting approach',\n",
       " 'spectral counting depict',\n",
       " 'spectral counting3 briefly',\n",
       " 'spectral datum detectable',\n",
       " 'spectral datum submit',\n",
       " 'spectral library ab',\n",
       " 'spectral library generate',\n",
       " 'spectral library information',\n",
       " 'spectral library quantify',\n",
       " 'spectral library searching',\n",
       " 'spectral match filter',\n",
       " 'spectramax m5 molecular',\n",
       " 'spectrawere record theorbitrap']"
      ]
     },
     "execution_count": 22,
     "metadata": {},
     "output_type": "execute_result"
    }
   ],
   "source": [
    "[col for col in x.columns if col.startswith('spectra')]"
   ]
  },
  {
   "cell_type": "code",
   "execution_count": 25,
   "metadata": {},
   "outputs": [
    {
     "data": {
      "text/plain": [
       "spectral count analysis       1\n",
       "spectral count great          1\n",
       "spectral counting approach    1\n",
       "spectral counting depict      1\n",
       "spectral counting3 briefly    1\n",
       "dtype: int64"
      ]
     },
     "execution_count": 25,
     "metadata": {},
     "output_type": "execute_result"
    }
   ],
   "source": [
    "x[[col for col in x.columns if col.startswith('spectral count')]].sum(axis=0)"
   ]
  },
  {
   "cell_type": "code",
   "execution_count": 26,
   "metadata": {},
   "outputs": [
    {
     "data": {
      "text/plain": [
       "['spectrum 100 2000',\n",
       " 'spectrum 100ms maximum',\n",
       " 'spectrum 100ms minimum',\n",
       " 'spectrum 20 abundant',\n",
       " 'spectrum 35 collision',\n",
       " 'spectrum 3501700 orbitrap',\n",
       " 'spectrum 3505000 resolution',\n",
       " 'spectrum 4002000 follow',\n",
       " 'spectrum 8s cycle',\n",
       " 'spectrum abundant multiply',\n",
       " 'spectrum accumulate mass',\n",
       " 'spectrum acquire mass',\n",
       " 'spectrum acquire orbitrap',\n",
       " 'spectrum acquire precursor',\n",
       " 'spectrum acquire resolution',\n",
       " 'spectrum average 1600',\n",
       " 'spectrum charge state',\n",
       " 'spectrum choose subsequent',\n",
       " 'spectrum collect orbitrap',\n",
       " 'spectrum complete fully',\n",
       " 'spectrum count 73',\n",
       " 'spectrum cysteine cathepsin',\n",
       " 'spectrum data type',\n",
       " 'spectrum dynamic exclusion',\n",
       " 'spectrum follow ethcd',\n",
       " 'spectrum fragmentation ms',\n",
       " 'spectrum isolation fragmentation',\n",
       " 'spectrum isolation window',\n",
       " 'spectrum ltq orbitrap',\n",
       " 'spectrum make pseudo',\n",
       " 'spectrum mass range',\n",
       " 'spectrum match import',\n",
       " 'spectrum match unique',\n",
       " 'spectrum maximum 20',\n",
       " 'spectrum meet specific',\n",
       " 'spectrum metalloproteinase inhibitor',\n",
       " 'spectrum minimal signal',\n",
       " 'spectrum ms ms',\n",
       " 'spectrum ms run',\n",
       " 'spectrum ms scan',\n",
       " 'spectrum msms acquire',\n",
       " 'spectrum neutral loss',\n",
       " 'spectrum obtain hcd',\n",
       " 'spectrum occur maximum',\n",
       " 'spectrum orbitrap 3001800',\n",
       " 'spectrum orbitrap 350',\n",
       " 'spectrum orbitrap 400',\n",
       " 'spectrum orbitrap 4001800',\n",
       " 'spectrum peak list',\n",
       " 'spectrum precursor change',\n",
       " 'spectrum precursor mass',\n",
       " 'spectrum protease inhibitor',\n",
       " 'spectrum range 360',\n",
       " 'spectrum record ms',\n",
       " 'spectrum record orbitrap',\n",
       " 'spectrum release 15',\n",
       " 'spectrum sample analyze',\n",
       " 'spectrum scan ms',\n",
       " 'spectrum search parameter',\n",
       " 'spectrum source voltage',\n",
       " 'spectrum specific fragment',\n",
       " 'spectrum spot 20',\n",
       " 'spectrum tandem ms',\n",
       " 'spectrum target resolution',\n",
       " 'spectrum use neutral',\n",
       " 'spectrum use profile']"
      ]
     },
     "execution_count": 26,
     "metadata": {},
     "output_type": "execute_result"
    }
   ],
   "source": [
    "[col for col in x.columns if col.startswith('spectrum')]"
   ]
  },
  {
   "cell_type": "code",
   "execution_count": null,
   "metadata": {},
   "outputs": [],
   "source": []
  },
  {
   "cell_type": "code",
   "execution_count": null,
   "metadata": {},
   "outputs": [],
   "source": []
  },
  {
   "cell_type": "code",
   "execution_count": null,
   "metadata": {},
   "outputs": [],
   "source": []
  },
  {
   "cell_type": "code",
   "execution_count": null,
   "metadata": {},
   "outputs": [],
   "source": []
  },
  {
   "cell_type": "code",
   "execution_count": null,
   "metadata": {},
   "outputs": [],
   "source": []
  },
  {
   "cell_type": "code",
   "execution_count": null,
   "metadata": {},
   "outputs": [],
   "source": []
  }
 ],
 "metadata": {
  "kernelspec": {
   "display_name": "Python 3",
   "language": "python",
   "name": "python3"
  },
  "language_info": {
   "codemirror_mode": {
    "name": "ipython",
    "version": 3
   },
   "file_extension": ".py",
   "mimetype": "text/x-python",
   "name": "python",
   "nbconvert_exporter": "python",
   "pygments_lexer": "ipython3",
   "version": "3.6.6"
  }
 },
 "nbformat": 4,
 "nbformat_minor": 2
}
