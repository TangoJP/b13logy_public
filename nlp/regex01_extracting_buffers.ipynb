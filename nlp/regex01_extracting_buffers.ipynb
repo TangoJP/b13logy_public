{
 "cells": [
  {
   "cell_type": "code",
   "execution_count": 1,
   "metadata": {},
   "outputs": [],
   "source": [
    "import pandas as pd\n",
    "import re\n",
    "import numpy\n",
    "import pickle"
   ]
  },
  {
   "cell_type": "code",
   "execution_count": 2,
   "metadata": {},
   "outputs": [],
   "source": [
    "df =  pd.read_csv('base_data/pride_table.csv').astype(str)"
   ]
  },
  {
   "cell_type": "code",
   "execution_count": 3,
   "metadata": {},
   "outputs": [
    {
     "data": {
      "text/html": [
       "<div>\n",
       "<style scoped>\n",
       "    .dataframe tbody tr th:only-of-type {\n",
       "        vertical-align: middle;\n",
       "    }\n",
       "\n",
       "    .dataframe tbody tr th {\n",
       "        vertical-align: top;\n",
       "    }\n",
       "\n",
       "    .dataframe thead th {\n",
       "        text-align: right;\n",
       "    }\n",
       "</style>\n",
       "<table border=\"1\" class=\"dataframe\">\n",
       "  <thead>\n",
       "    <tr style=\"text-align: right;\">\n",
       "      <th></th>\n",
       "      <th>dataset_id</th>\n",
       "      <th>sample_protocol</th>\n",
       "      <th>data_protocol</th>\n",
       "      <th>description</th>\n",
       "      <th>instruments</th>\n",
       "      <th>exp_types</th>\n",
       "      <th>quant_methods</th>\n",
       "      <th>labhead_fullname</th>\n",
       "    </tr>\n",
       "  </thead>\n",
       "  <tbody>\n",
       "    <tr>\n",
       "      <th>0</th>\n",
       "      <td>PXD000001</td>\n",
       "      <td>Not available</td>\n",
       "      <td>Two extra files have been added post-publicati...</td>\n",
       "      <td>Expected reporter ion ratios: Erwinia peptides...</td>\n",
       "      <td>LTQ Orbitrap Velos, instrument model</td>\n",
       "      <td>Bottom-up proteomics</td>\n",
       "      <td>nan</td>\n",
       "      <td>nan</td>\n",
       "    </tr>\n",
       "    <tr>\n",
       "      <th>1</th>\n",
       "      <td>PXD000002</td>\n",
       "      <td>Not available</td>\n",
       "      <td>Not available</td>\n",
       "      <td>Human saliva samples from a 36 year old male w...</td>\n",
       "      <td>instrument model, LTQ Velos</td>\n",
       "      <td>Bottom-up proteomics</td>\n",
       "      <td>nan</td>\n",
       "      <td>nan</td>\n",
       "    </tr>\n",
       "  </tbody>\n",
       "</table>\n",
       "</div>"
      ],
      "text/plain": [
       "  dataset_id sample_protocol  \\\n",
       "0  PXD000001   Not available   \n",
       "1  PXD000002   Not available   \n",
       "\n",
       "                                       data_protocol  \\\n",
       "0  Two extra files have been added post-publicati...   \n",
       "1                                      Not available   \n",
       "\n",
       "                                         description  \\\n",
       "0  Expected reporter ion ratios: Erwinia peptides...   \n",
       "1  Human saliva samples from a 36 year old male w...   \n",
       "\n",
       "                            instruments             exp_types quant_methods  \\\n",
       "0  LTQ Orbitrap Velos, instrument model  Bottom-up proteomics           nan   \n",
       "1           instrument model, LTQ Velos  Bottom-up proteomics           nan   \n",
       "\n",
       "  labhead_fullname  \n",
       "0              nan  \n",
       "1              nan  "
      ]
     },
     "execution_count": 3,
     "metadata": {},
     "output_type": "execute_result"
    }
   ],
   "source": [
    "df.head(2)"
   ]
  },
  {
   "cell_type": "code",
   "execution_count": 4,
   "metadata": {},
   "outputs": [],
   "source": [
    "method = df['sample_protocol'][(df['sample_protocol'] != 'Not available') & (df['sample_protocol'] != 'nan')].reset_index(drop=True)"
   ]
  },
  {
   "cell_type": "code",
   "execution_count": 5,
   "metadata": {},
   "outputs": [
    {
     "data": {
      "text/plain": [
       "'Conditioned media preparation and HPLC-isobaric tags for relative and absolute quantitation mass-spectrometry (iTRAQ MS). Twenty million cells were transfected with either control or Gαs siRNA, then were seeded in 100-mm cell culture plates in DMEM + 10% FBS. Two days later, cells were washed twice with pre-warmed PBS. Conditioned media was harvested another 24 h later, and centrifuged at 20,000 g for 10 min at 4°C to remove cell debris. To enrich for secreted proteins in the conditioned media, conditioned media samples were centrifuged using Amicon centrifugal filters with a 3kDa cutoff (Millipore, Billerica, MA). A total of 8 concentrated conditioned media samples were independently prepared: 4 samples from control siRNA-treated cells, and 4 samples from Gαs siRNA-treated cells. Samples were stored at –70°C until they were analyzed by iTRAQ labeling and LC-MS/MS. iTRAQ labeling – Total protein concentration of each sample was measured using the Bradford assay. A quantity of 100 µg was taken from each sample, denatured in 0.1% SDS, reduced in 50 mM Tris(2-carboxyethyl)phosphine (TCEP), alkylated in 200 mM methyl methanethiosulfonate (MMTS), and digested overnight with trypsin. Each sample’s peptides were labeled with different iTRAQ reagents (AB Sciex, Framingham, MA) following the manufacturer’s protocol, combined, dried down to a 50 µL volume, acidified with 1% trifluoroacetic acid (TFA), and desalted with a 100 mg-C18 SepPak cartridge (Waters, Milford, MA). Peptide fractionation – Combined iTRAQ labeled peptides were first separated into 12 fractions using a 3100 OFFGEL Fractionator (Agilent, Santa Clara, CA) with a 12-well setup and a 12-cm pH 3–10 immobilized pH-gradient (IPG) strip, according to manufacturer’s recommendations. Peptides were collected after the focusing voltage reached a maximum plateau (> 50 kVh). The recovered fractions were lyophilized. LC-MALDI-TOF/TOF analysis – All solvents used in this section were aqueous unless specified and obtained from ThermoFisher Scientific (San Jose, CA). Dried samples were reconstituted in 30 µL of solvent A (2% v/v acetonitrile [ACN], 0.1% v/v TFA), and 10 µL of the resulting solution was injected into an Ultimate™ HPLC system with UV detection (LC Packings, Sunnyvale, CA). Solvent B contained 98% v/v ACN, 0.1% v/v TFA. A C18 trap (5.0 mm x 300 µm ID, LC Packings) and a 15 cm x 100 µm ID column packed in-house with Magic C18 5 µm beads (Michrom Bioresources, Auburn, CA) were used for chromatography. Solvent flow rate was set to 0.700 µL/min. After injection, each sample was loaded and washed with solvent A for 5 min at a flow rate of 0.030 mL/min, followed by a 10% to 50% gradient over 55 min, then ramped to 90% by 65 min. Each sample run was maintained in 90% solvent B until 75 min, returned to 10% at 75.1 min, followed by a 10 min equilibration in 10% solvent B. The HPLC system is connected to a modified Probot™ automated MALDI spotter (LC Packings) to spot eluates on an LC MALDI plate with on-line mixing of α-Cyano-4-hydroxycinnamic acid (CHCA) matrix (7.5 mg/mL in 70% ACN). Considering the dead time for the HPLC and spotting system, spot collection time was started 10 min from injection time with a spotting time of 0.33 min per spot. A total of 176 spots were collected. The sample plate with the resulting spots was loaded onto a 5800 MALDI time-of-flight/time-of-flight (TOF/TOF) mass spectrometer (AB Sciex, Framingham, MA) for MS and MS/MS analysis. Batch-mode mass calibration with plate alignment were done before data acquisition, thus a separate plate calibration file was generated for each individual plate containing sample spots. Full scan MS spectra were obtained with a total of 1000 laser shots per spectrum. From each spot, the top 20 most intense peaks, weakest precursor first, that were above a signal-to-noise threshold of 10, were selected for successful MS/MS analysis. Each MS/MS spectrum was an average of 1600 laser shots. MS/MS spectra were acquired in the presence of collision gas. The sequence of the VGF-NERP1 peptide was confirmed using the LTQ-Orbitrap mass spectrometer (ThermoFisher Scientific, San Jose, CA).'"
      ]
     },
     "execution_count": 5,
     "metadata": {},
     "output_type": "execute_result"
    }
   ],
   "source": [
    "method.iloc[3]"
   ]
  },
  {
   "cell_type": "code",
   "execution_count": 6,
   "metadata": {},
   "outputs": [
    {
     "name": "stdout",
     "output_type": "stream",
     "text": [
      "10%\n",
      "0.1%\n",
      "50 mM\n",
      "200 mM\n",
      "1%\n",
      "2%\n",
      "0.1%\n",
      "98%\n",
      "0.1%\n",
      "10%\n",
      "50%\n",
      "90%\n",
      "90%\n",
      "10%\n",
      "10%\n",
      "70%\n"
     ]
    }
   ],
   "source": [
    "# finding concentrations\n",
    "regex1 = r'((?:0\\.)?(?:\\d{1,4}) ?(?:mM|µM|nM|%))'\n",
    "text = method.iloc[3]\n",
    "res = [s for s in re.findall(regex1, text)]\n",
    "for conc in res:\n",
    "    print(conc)"
   ]
  },
  {
   "cell_type": "code",
   "execution_count": 7,
   "metadata": {},
   "outputs": [
    {
     "name": "stdout",
     "output_type": "stream",
     "text": [
      "10% FBS\n",
      "0.1% SDS\n",
      "50 mM Tris\n",
      "200 mM methyl\n",
      "1% trifluoroacetic\n",
      "2% v\n",
      "0.1% v\n",
      "98% v\n",
      "0.1% v\n",
      "10% to\n",
      "50% gradient\n",
      "90% by\n",
      "90% solvent\n",
      "10% at\n",
      "10% solvent\n",
      "70% ACN\n"
     ]
    }
   ],
   "source": [
    "# finding buffers1\n",
    "regex2 = r'((?:0\\.)?(?:\\d{1,4}) ?(?:mM|µM|nM|%) [A-Za-z]+)'\n",
    "text = method.iloc[3]\n",
    "res = [s for s in re.findall(regex2, text)]\n",
    "for buffer in res:\n",
    "    print(buffer)"
   ]
  },
  {
   "cell_type": "code",
   "execution_count": 8,
   "metadata": {},
   "outputs": [
    {
     "name": "stdout",
     "output_type": "stream",
     "text": [
      "10% FBS\n",
      "0.1% SDS\n",
      "50 mM Tris\n",
      "200 mM methyl\n",
      "1% trifluoroacetic\n",
      "2% v/v acetonitrile\n",
      "0.1% v/v TFA\n",
      "98% v/v ACN\n",
      "0.1% v/v TFA\n",
      "10% to\n",
      "50% gradient\n",
      "90% by\n",
      "90% solvent\n",
      "10% at\n",
      "10% solvent\n",
      "70% ACN\n"
     ]
    }
   ],
   "source": [
    "# finding buffers2: add w/v, v/v\n",
    "regex2 = r'((?:0\\.)?(?:\\d{1,4}) ?(?:mM|µM|nM|%) \\(?(?:w/v |v/v )?\\)?[A-Za-z]+)'\n",
    "text = method.iloc[3]\n",
    "res = [s for s in re.findall(regex2, text)]\n",
    "for buffer in res:\n",
    "    print(buffer)"
   ]
  },
  {
   "cell_type": "markdown",
   "metadata": {},
   "source": [
    "Except '10% at' it seems to work!"
   ]
  },
  {
   "cell_type": "code",
   "execution_count": 9,
   "metadata": {},
   "outputs": [
    {
     "name": "stdout",
     "output_type": "stream",
     "text": [
      "10% Bis\n",
      "5% formic\n",
      "50% acetonitrile\n",
      "0.1% trifluoroacetic\n",
      "40% acetonitrile\n",
      "0.1% formic\n",
      "0.67% min\n"
     ]
    }
   ],
   "source": [
    "# Test on another text\n",
    "regex2 = r'((?:0\\.)?(?:\\d{1,4}) ?(?:mM|µM|nM|%) \\(?(?:w/v |v/v )?\\)?[A-Za-z]+)'\n",
    "text = method.iloc[4]\n",
    "res = [s for s in re.findall(regex2, text)]\n",
    "for buffer in res:\n",
    "    print(buffer)"
   ]
  },
  {
   "cell_type": "code",
   "execution_count": 10,
   "metadata": {
    "scrolled": true
   },
   "outputs": [
    {
     "name": "stdout",
     "output_type": "stream",
     "text": [
      "===== for text 0 =====\n",
      "2% deoxycholate\n",
      "0.37% w/v sodium\n",
      "50% v/v acetonitrile\n",
      "2% v/v formic\n",
      "2% v/v acetonitrile\n",
      "===== for text 1 =====\n",
      "===== for text 2 =====\n",
      "10 mM DTT\n",
      "55 mM iodoacetamide\n",
      "100% acetonitrile\n",
      "40 mM ammoniumbicarbonate\n",
      "===== for text 3 =====\n",
      "10% FBS\n",
      "0.1% SDS\n",
      "50 mM Tris\n",
      "200 mM methyl\n",
      "1% trifluoroacetic\n",
      "2% v/v acetonitrile\n",
      "0.1% v/v TFA\n",
      "98% v/v ACN\n",
      "0.1% v/v TFA\n",
      "10% to\n",
      "50% gradient\n",
      "90% by\n",
      "90% solvent\n",
      "10% at\n",
      "10% solvent\n",
      "70% ACN\n",
      "===== for text 4 =====\n",
      "10% Bis-Tris\n",
      "5% formic\n",
      "50% acetonitrile\n",
      "0.1% trifluoroacetic\n",
      "40% acetonitrile\n",
      "0.1% formic\n",
      "0.67% min\n",
      "===== for text 5 =====\n",
      "100 mM solution\n",
      "250 mM sucrose\n",
      "10 mM triethanolamine\n",
      "12% SDS\n",
      "0.1% formic\n",
      "0.1% formic\n",
      "50% B\n",
      "===== for text 6 =====\n",
      "2% acetonitrile\n",
      "0.1% formic\n",
      "2% to\n",
      "50% Acetonitrile\n",
      "0.1% formic\n",
      "20 mM KH2PO4\n",
      "20% ACN\n",
      "1000 mM KCl\n",
      "2% ACN\n",
      "0.1% FA\n",
      "2% to\n",
      "36% ACN\n",
      "0.1% FA\n",
      "===== for text 7 =====\n",
      "===== for text 8 =====\n",
      "20 mM Tris\n",
      "20 mM NaCl\n",
      "12% NuPAGE\n",
      "25 mM ammonium\n",
      "30% acetonitrile\n",
      "25 mM ABC\n",
      "80% acetonitrile\n",
      "25 mM ABC\n",
      "10 mM DTT\n",
      "25 mM ABC\n",
      "55 mM iodoacetamide\n",
      "25 mM ABC\n",
      "5% trifluoroacetic\n",
      "0.1% TFA\n",
      "===== for text 9 =====\n",
      "===== for text 10 =====\n",
      "70 mM dichlorodiphenyltrichloroethane\n",
      "1% SDS\n",
      "70% EtOH\n",
      "1% SDS\n",
      "12% SDS\n",
      "50% (v/v) methanol\n",
      "100 mM NH4HCO3\n",
      "50 mM NH4HCO3\n",
      "10 mM DTT\n",
      "50 mM NH4HCO3\n",
      "50 mM iodoacetamide\n",
      "100% ACN\n",
      "50 mM Tris\n",
      "1% (v/v) formic\n",
      "10% (v/v) formic\n",
      "5% (v/v) ACN\n",
      "0.1% (v/v) formic\n",
      "===== for text 11 =====\n",
      "50 mM Tris-HCl\n",
      "150 mM NaCl\n",
      "5 mM EDTA\n",
      "0.1% Triton\n",
      "5 mM NaF\n",
      "1 mM NaVO4\n",
      "12% Bis-Tris\n",
      "100% ACN\n",
      "80% acetonitrile\n",
      "28% solvent\n",
      "50% solvent\n",
      "100% solvent\n",
      "100% solvent\n",
      "35% for\n",
      "===== for text 12 =====\n",
      "10 mM dithiothreitol\n",
      "55 mM iodoacetamide\n",
      "25 mM ammonium\n",
      "===== for text 13 =====\n",
      "0.1% RapiGest\n",
      "5 mM TCEP\n",
      "10 mM iodoacetamide\n",
      "5 mM N-acetyl-cysteine\n",
      "100 mM ammoniumbicarbonate\n",
      "0.5% and\n",
      "===== for text 14 =====\n",
      "===== for text 15 =====\n",
      "===== for text 16 =====\n",
      "12% gradient\n",
      "50 mM ammonium\n",
      "50 mM ammonium\n",
      "50% acetonitrile\n",
      "1% formic\n",
      "5% acetonitrile\n",
      "0.1% formic\n",
      "5% acetonitrile\n",
      "0.1% formic\n",
      "===== for text 17 =====\n",
      "0.1% RapiGest\n",
      "===== for text 18 =====\n",
      "10% acetonitrile\n",
      "5% acetonitrile-0\n",
      "1% trifluoroacetic\n",
      "3% acetonitrile\n",
      "0.1% trifluoroacetic\n",
      "===== for text 19 =====\n",
      "4% CHAPS\n",
      "2% DTT\n",
      "0.5% Bio-Lyte\n",
      "0.5% CHAPS\n",
      "0.2% DTT\n",
      "0.2% Bio-Lyte\n",
      "12% gel\n",
      "0.1% TFA\n",
      "5% acetonitrile\n",
      "0.1% formic\n",
      "95% acetonitrile\n",
      "0.1% formic\n",
      "===== for text 20 =====\n",
      "===== for text 21 =====\n",
      "1% PSPEP\n",
      "===== for text 22 =====\n",
      "===== for text 23 =====\n",
      "0.5% SDS\n",
      "===== for text 24 =====\n",
      "===== for text 25 =====\n",
      "200mM of IAM\n",
      "100 mM of IAM\n",
      "20 mM of ascorbate\n",
      "1 mM of iodoTMT1\n",
      "5mM of TCEP\n",
      "1mM of iodoTMT2\n",
      "25mM of ammonium\n",
      "0.5% of RapiGest\n",
      "===== for text 26 =====\n",
      "5% charcoal-treated\n",
      "4% FA\n",
      "===== for text 27 =====\n",
      "5 mM glucose\n",
      "0.05% bovine\n",
      "10 % SDS-polyacrylamide\n",
      "35% and\n",
      "===== for text 28 =====\n",
      "===== for text 29 =====\n",
      "10% fetal\n",
      "10% fetal\n",
      "50 mM ammonium\n",
      "1 mM sodium\n",
      "4 mM at\n",
      "8 mM at\n",
      "50 mM ammonium\n",
      "5% formic\n",
      "80% acetonitrile\n",
      "6% trifluoroacetic\n",
      "80% ACN\n",
      "6% TFA\n",
      "50% ACN\n",
      "0.5% TFA\n",
      "200 mM NaCl\n",
      "50% ACN\n",
      "0.1% TFA\n",
      "10% formic\n",
      "10% ammonia\n",
      "80% ACN\n",
      "2% formic\n",
      "100% formic\n",
      "100% solvent\n",
      "0.1 % formic\n",
      "7% to\n",
      "30% solvent\n",
      "0.1% formic\n",
      "35% and\n"
     ]
    }
   ],
   "source": [
    "# some more improvements\n",
    "buffer_pattern = r'((?:0\\.)?(?:\\d{1,4}) ?(?:mM|µM|nM|%) (?:w/v\\)? |\\(?v/v\\)? )?(?:of )?[A-Za-z0-9-]+)'\n",
    "for i in range(30):\n",
    "    text = method.iloc[i]\n",
    "    res = [s for s in re.findall(buffer_pattern, text)]\n",
    "    print('===== for text %d =====' % i)\n",
    "    for b in res:\n",
    "        print(b)"
   ]
  },
  {
   "cell_type": "markdown",
   "metadata": {},
   "source": [
    "#### cases to remove\n",
    "'10% at'\n",
    "'0.67% min' (min-1)\n",
    "'90% by'\n",
    "'10% to'\n",
    "'50% B' (could be included)\n",
    "'35% for'\n",
    "'12% gel' (could be included in a different category, not as buffer)\n",
    "'12% gradient' (could be included in a different category, not as buffer)"
   ]
  },
  {
   "cell_type": "code",
   "execution_count": 11,
   "metadata": {},
   "outputs": [
    {
     "data": {
      "text/plain": [
       "\"Low resolution mass spectrometry: For the shotgun proteomics analysis, six cell pellets were subject to differential detergent fractionation as described by McCarthy et al. using the detergents digitonin, Tween 20 and SDS. After each detergent application, samples were centrifuged to separate solublized proteins from cellular debris. The insoluble pellet left after treatment was subject to trypsin digestion along with the soluble fractions, but could not be quantified. Fractions were normalized to 20 μg each and trypsin digestion as described by McCarthy et al. Following digestion, each fraction was desalted using a peptide microtrap (Michrom BioResources) according to the manufacturer's instructions. After desalting, each fraction was further cleaned using a strong cation exchange (SCX) microtrap (Michrom BioResources) to remove any residual detergent, which could interfere with the mass spectrometry. Fractions were dried and resuspended in 10 μL of 2% acetonitrile (ACN), 0.1% formic acid (FA) and transferred to low retention vials in preparation for separation using 1D-LC. The high performance liquid chromatography (HPLC) equipment used for peptide separation was an Ultimate 3000 (Dionex) operated in 1D-LC mode at a flow rate of 333 nL per min and equipped with a 0.075 mm x 100 mm column packed with Halo C18 material (Michrom BioResources) for reverse phase separation. Each sample was separated using a 4 h gradient from 2% to 50% Acetonitrile with 0.1% formic acid as a proton source. The column was located on the ion source and connected directly to a nanospray emitter to minimize peak broadening. Scan parameters for the LTQ Velos Pro were one MS scan followed by 20 MS/MS scans of the 20 most intense peaks using high energy collisional dissociation as the fragmentation method. Dynamic exclusion was enabled with a mass exclusion time of 3 min and a repeat count of 1 within 30 sec of initial m/z measurement. High resolution mass spectrometry: The two cell pellets reserved for high resolution analysis were lysed and digested as described by Wilton et al. Digested peptides were dried, resuspended in 20 mM KH2PO4, 20% ACN, pH 3 (Buffer A) in 2.5 μL and transferred to low retention vials in preparation for separation using an Ultimate 3000 configured for 2D-LC. Each sample was loaded at 15 μL/min onto an SCX microtrap (Michrom BioResources) for the first dimension of separation, involving SCX steps of Buffer A plus 0, 5, 10, 15, 20, 25, 30, 40, 50, 100, 250, 500, and 1000 mM KCl. For the second dimension of separation, each eluted salt step was desalted with an inline peptide microtrap (Michrom BioResources) with 2% ACN, 0.1% FA at 5 μL/min. Once desalted, the microtrap was switched into line with a fritless nano column (75 μm x ~10 cm) containing C18 media (5 μ, 200 Å Magic, Michrom) manufactured according to Gatlin. Peptides were eluted using a gradient of 2% to 36% ACN, 0.1% FA at 350 nL/min over 60 min and electrospray ionized for analysis using an LTQ FT Ultra mass spectrometer. A survey scan m/z 350–1750 was acquired in the FT ion cyclotron resonance cell (Resolution = 100,000 at m/z 400, with an accumulation target value of 1,000,000 ions). Up to the 6 most abundant ions (>3,000 counts) with charge states > +2 were sequentially isolated and fragmented within the linear ion trap using collisionally induced dissociation with an activation q = 0.25 and activation time of 30 ms at a target value of 30,000 ions. M/z ratios selected for MS/ MS were dynamically excluded for 30 seconds.\""
      ]
     },
     "execution_count": 11,
     "metadata": {},
     "output_type": "execute_result"
    }
   ],
   "source": [
    "method.iloc[6]"
   ]
  },
  {
   "cell_type": "code",
   "execution_count": 12,
   "metadata": {},
   "outputs": [
    {
     "data": {
      "text/plain": [
       "'Protein Extraction from Catheter Biofilm Small pieces of the catheter tip (two times one cm) were transferred to 1 ml of urea-containing buffer (11 M urea, 3 M thiourea, 70 mM dichlorodiphenyltrichloroethane (DDT), 4% (w/v) 3-[(3-cholamidopropyl)dimethyl¬ammonio]-1-propanesulfonate (CHAPS)). The sample was incubated on ice for 5 min, mixed intensively for 30 s and then incubated on ice for 10 min; those steps were repeated twice. Sonication was performed for 30 s and repeated five times to dissolve and lyse the cells using a Sonicator (Type UW 2070, Bandelin electronics, Berlin). Subsequently, the catheter pieces were removed and the remaining cell lysate was mixed with ice-cold acetone (1:7, v/v). After centrifugation (14,000 x g, 40 min) the resulting protein pellet was dried and solubilized in urea-containing buffer supplemented with 1% SDS. Total protein concentration was determined according to Bradford (42) employing the Coomassie PlusTM Protein Assay (Thermo Fisher Scientific Inc., USA). The absorbance was measured at 595 nm. The protein concentration was calculated using a bovine serum albumin (BSA) standard (Thermo Fisher Scientific Inc.). Metaproteomics analysis was performed in three technical replicates, i.e. the protein extract from the catheter biofilm was divided into three sub-samples.  Protein Extraction from Urine Urine samples (200 ml) from three urinary drainage bags from catheterized patients or collected from three healthy control persons were centrifuged for 20 min at 4 °C at 6000 x g and the resulting supernatants were mixed with 20% (w/v) trichloroacetic acid and kept overnight at 4 °C. Subsequently, samples were centrifuged for 40 min at 14.000 x g at 4 °C, the resulting protein pellets were washed twice with 70% EtOH and thereafter solubilized in an urea-containing buffer with 1% SDS. Protein concentrations were determined as described above. Metaproteomics analyses were performed in three technical replicates, i.e. the protein extracts from urine were divided into three sub-samples.  Protein Extraction from P. aeruginosa and M. morganii Planktonic Cultures and in vitro Biofilms All in vitro proteomics analyses were performed with protein extracts of three biological replicates. Planktonic cultures of the P. aeruginosa and M. morganii isolates (see below) were grown in artificial urine medium (AUM) based on the recipe of Brooks and Keevil (43) with slight modiﬁcations (uric acid 0.333 g/l, Na2SO4 1.4 g/l). To this end, 100 ml media were inoculated to an OD600nm of 0.01 with freshly grown AUM cultures and subsequently incubated at 180 rpm at 37 °C. Cells were harvested in the early stationary growth phase by centrifugation at 6.000 x g for 10 min at 4 °C. Proteins were extracted from the resulting cell pellet as described above. The corresponding supernatants were filtered through a 0.2 µm pore filter and concentrated by a vivaspin 20 concentrator (3 kDa MWCO, GE Healthcare) followed by protein precipitation with ice-cold acetone (1:7, v/v) for the investigation of the secretome.  Biofilms were grown on silicone catheters, which were placed into planktonic AUM cultures, inoculated to an OD600nm of 0.01 and cultivated for 24 h at 50 rpm at 37 °C. Before harvesting the biofilm, the catheter was washed three times with ¼ ringer solution. Protein extraction from biofilm-grown P. aeruginosa and M. morganii was performed as described above.   1-D SDS-PAGE and Tryptic Digestion  The extracted proteins (30 - 40 µg of protein per biological or technical replicate) were separated on a 12% SDS polyacrylamide gel (44) and stained overnight with Colloidal Coomassie Brilliant Blue G-250 as described previously (45). Gel blocks were excised from the gel and proteins were digested with trypsin as follows: the excised gel pieces were destained using 50% (v/v) methanol in 100 mM NH4HCO3. Proteins were reduced in 50 mM NH4HCO3 by using 10 mM DTT for 30 min at 60 °C and carbamidomethylated/alkylated in 50 mM NH4HCO3 containing with 50 mM iodoacetamide for 60 min in the dark at RT. Subsequently, gel pieces were dehydrated using 100% ACN and allowed to dry. Modified trypsin (sequencing grade, Promega, Germany) was added to a final ratio of 1:10 (trypsin/ sample) in 50 mM Tris/HCl, pH 7.5 and incubated at 37 °C overnight. Peptides were iteratively extracted from the gel by a six step procedure, using ACN, 1% (v/v) formic acid in H2O, acetonitrile, 10% (v/v) formic acid and two times acetonitrile. Peptide-containing supernatants were pooled and completely dried using a Speedvac concentrator (Eppendorf AG). Samples were subsequently resolved in buffer A (5% (v/v) ACN, 0.1% (v/v) formic acid) and desalted using ZipTips (C18, Millipore). Finally, peptides were again vacuum-dried and stored at -20 °C.'"
      ]
     },
     "execution_count": 12,
     "metadata": {},
     "output_type": "execute_result"
    }
   ],
   "source": [
    "method.iloc[10]"
   ]
  },
  {
   "cell_type": "code",
   "execution_count": null,
   "metadata": {},
   "outputs": [],
   "source": []
  },
  {
   "cell_type": "code",
   "execution_count": null,
   "metadata": {},
   "outputs": [],
   "source": []
  },
  {
   "cell_type": "code",
   "execution_count": null,
   "metadata": {},
   "outputs": [],
   "source": []
  },
  {
   "cell_type": "code",
   "execution_count": null,
   "metadata": {},
   "outputs": [],
   "source": []
  },
  {
   "cell_type": "code",
   "execution_count": null,
   "metadata": {},
   "outputs": [],
   "source": []
  },
  {
   "cell_type": "code",
   "execution_count": null,
   "metadata": {},
   "outputs": [],
   "source": []
  },
  {
   "cell_type": "code",
   "execution_count": null,
   "metadata": {},
   "outputs": [],
   "source": []
  },
  {
   "cell_type": "code",
   "execution_count": null,
   "metadata": {},
   "outputs": [],
   "source": []
  },
  {
   "cell_type": "code",
   "execution_count": null,
   "metadata": {},
   "outputs": [],
   "source": []
  }
 ],
 "metadata": {
  "kernelspec": {
   "display_name": "Python 3",
   "language": "python",
   "name": "python3"
  },
  "language_info": {
   "codemirror_mode": {
    "name": "ipython",
    "version": 3
   },
   "file_extension": ".py",
   "mimetype": "text/x-python",
   "name": "python",
   "nbconvert_exporter": "python",
   "pygments_lexer": "ipython3",
   "version": "3.6.6"
  }
 },
 "nbformat": 4,
 "nbformat_minor": 2
}
