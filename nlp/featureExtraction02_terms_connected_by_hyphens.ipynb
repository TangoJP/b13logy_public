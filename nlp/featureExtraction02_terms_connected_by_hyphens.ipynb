{
 "cells": [
  {
   "cell_type": "code",
   "execution_count": 1,
   "metadata": {},
   "outputs": [],
   "source": [
    "import pandas as pd\n",
    "import re\n",
    "import numpy\n",
    "import pickle"
   ]
  },
  {
   "cell_type": "code",
   "execution_count": 2,
   "metadata": {},
   "outputs": [],
   "source": [
    "df =  pd.read_csv('base_data/pride_table.csv').astype(str)"
   ]
  },
  {
   "cell_type": "code",
   "execution_count": 3,
   "metadata": {},
   "outputs": [
    {
     "data": {
      "text/html": [
       "<div>\n",
       "<style scoped>\n",
       "    .dataframe tbody tr th:only-of-type {\n",
       "        vertical-align: middle;\n",
       "    }\n",
       "\n",
       "    .dataframe tbody tr th {\n",
       "        vertical-align: top;\n",
       "    }\n",
       "\n",
       "    .dataframe thead th {\n",
       "        text-align: right;\n",
       "    }\n",
       "</style>\n",
       "<table border=\"1\" class=\"dataframe\">\n",
       "  <thead>\n",
       "    <tr style=\"text-align: right;\">\n",
       "      <th></th>\n",
       "      <th>dataset_id</th>\n",
       "      <th>sample_protocol</th>\n",
       "      <th>data_protocol</th>\n",
       "      <th>description</th>\n",
       "      <th>instruments</th>\n",
       "      <th>exp_types</th>\n",
       "      <th>quant_methods</th>\n",
       "      <th>labhead_fullname</th>\n",
       "    </tr>\n",
       "  </thead>\n",
       "  <tbody>\n",
       "    <tr>\n",
       "      <th>0</th>\n",
       "      <td>PXD000001</td>\n",
       "      <td>Not available</td>\n",
       "      <td>Two extra files have been added post-publicati...</td>\n",
       "      <td>Expected reporter ion ratios: Erwinia peptides...</td>\n",
       "      <td>LTQ Orbitrap Velos, instrument model</td>\n",
       "      <td>Bottom-up proteomics</td>\n",
       "      <td>nan</td>\n",
       "      <td>nan</td>\n",
       "    </tr>\n",
       "    <tr>\n",
       "      <th>1</th>\n",
       "      <td>PXD000002</td>\n",
       "      <td>Not available</td>\n",
       "      <td>Not available</td>\n",
       "      <td>Human saliva samples from a 36 year old male w...</td>\n",
       "      <td>instrument model, LTQ Velos</td>\n",
       "      <td>Bottom-up proteomics</td>\n",
       "      <td>nan</td>\n",
       "      <td>nan</td>\n",
       "    </tr>\n",
       "  </tbody>\n",
       "</table>\n",
       "</div>"
      ],
      "text/plain": [
       "  dataset_id sample_protocol  \\\n",
       "0  PXD000001   Not available   \n",
       "1  PXD000002   Not available   \n",
       "\n",
       "                                       data_protocol  \\\n",
       "0  Two extra files have been added post-publicati...   \n",
       "1                                      Not available   \n",
       "\n",
       "                                         description  \\\n",
       "0  Expected reporter ion ratios: Erwinia peptides...   \n",
       "1  Human saliva samples from a 36 year old male w...   \n",
       "\n",
       "                            instruments             exp_types quant_methods  \\\n",
       "0  LTQ Orbitrap Velos, instrument model  Bottom-up proteomics           nan   \n",
       "1           instrument model, LTQ Velos  Bottom-up proteomics           nan   \n",
       "\n",
       "  labhead_fullname  \n",
       "0              nan  \n",
       "1              nan  "
      ]
     },
     "execution_count": 3,
     "metadata": {},
     "output_type": "execute_result"
    }
   ],
   "source": [
    "df.head(2)"
   ]
  },
  {
   "cell_type": "code",
   "execution_count": 4,
   "metadata": {},
   "outputs": [],
   "source": [
    "method = df['sample_protocol'][(df['sample_protocol'] != 'Not available') & (df['sample_protocol'] != 'nan')].reset_index(drop=True)"
   ]
  },
  {
   "cell_type": "code",
   "execution_count": 5,
   "metadata": {},
   "outputs": [
    {
     "data": {
      "text/plain": [
       "'Conditioned media preparation and HPLC-isobaric tags for relative and absolute quantitation mass-spectrometry (iTRAQ MS). Twenty million cells were transfected with either control or Gαs siRNA, then were seeded in 100-mm cell culture plates in DMEM + 10% FBS. Two days later, cells were washed twice with pre-warmed PBS. Conditioned media was harvested another 24 h later, and centrifuged at 20,000 g for 10 min at 4°C to remove cell debris. To enrich for secreted proteins in the conditioned media, conditioned media samples were centrifuged using Amicon centrifugal filters with a 3kDa cutoff (Millipore, Billerica, MA). A total of 8 concentrated conditioned media samples were independently prepared: 4 samples from control siRNA-treated cells, and 4 samples from Gαs siRNA-treated cells. Samples were stored at –70°C until they were analyzed by iTRAQ labeling and LC-MS/MS. iTRAQ labeling – Total protein concentration of each sample was measured using the Bradford assay. A quantity of 100 µg was taken from each sample, denatured in 0.1% SDS, reduced in 50 mM Tris(2-carboxyethyl)phosphine (TCEP), alkylated in 200 mM methyl methanethiosulfonate (MMTS), and digested overnight with trypsin. Each sample’s peptides were labeled with different iTRAQ reagents (AB Sciex, Framingham, MA) following the manufacturer’s protocol, combined, dried down to a 50 µL volume, acidified with 1% trifluoroacetic acid (TFA), and desalted with a 100 mg-C18 SepPak cartridge (Waters, Milford, MA). Peptide fractionation – Combined iTRAQ labeled peptides were first separated into 12 fractions using a 3100 OFFGEL Fractionator (Agilent, Santa Clara, CA) with a 12-well setup and a 12-cm pH 3–10 immobilized pH-gradient (IPG) strip, according to manufacturer’s recommendations. Peptides were collected after the focusing voltage reached a maximum plateau (> 50 kVh). The recovered fractions were lyophilized. LC-MALDI-TOF/TOF analysis – All solvents used in this section were aqueous unless specified and obtained from ThermoFisher Scientific (San Jose, CA). Dried samples were reconstituted in 30 µL of solvent A (2% v/v acetonitrile [ACN], 0.1% v/v TFA), and 10 µL of the resulting solution was injected into an Ultimate™ HPLC system with UV detection (LC Packings, Sunnyvale, CA). Solvent B contained 98% v/v ACN, 0.1% v/v TFA. A C18 trap (5.0 mm x 300 µm ID, LC Packings) and a 15 cm x 100 µm ID column packed in-house with Magic C18 5 µm beads (Michrom Bioresources, Auburn, CA) were used for chromatography. Solvent flow rate was set to 0.700 µL/min. After injection, each sample was loaded and washed with solvent A for 5 min at a flow rate of 0.030 mL/min, followed by a 10% to 50% gradient over 55 min, then ramped to 90% by 65 min. Each sample run was maintained in 90% solvent B until 75 min, returned to 10% at 75.1 min, followed by a 10 min equilibration in 10% solvent B. The HPLC system is connected to a modified Probot™ automated MALDI spotter (LC Packings) to spot eluates on an LC MALDI plate with on-line mixing of α-Cyano-4-hydroxycinnamic acid (CHCA) matrix (7.5 mg/mL in 70% ACN). Considering the dead time for the HPLC and spotting system, spot collection time was started 10 min from injection time with a spotting time of 0.33 min per spot. A total of 176 spots were collected. The sample plate with the resulting spots was loaded onto a 5800 MALDI time-of-flight/time-of-flight (TOF/TOF) mass spectrometer (AB Sciex, Framingham, MA) for MS and MS/MS analysis. Batch-mode mass calibration with plate alignment were done before data acquisition, thus a separate plate calibration file was generated for each individual plate containing sample spots. Full scan MS spectra were obtained with a total of 1000 laser shots per spectrum. From each spot, the top 20 most intense peaks, weakest precursor first, that were above a signal-to-noise threshold of 10, were selected for successful MS/MS analysis. Each MS/MS spectrum was an average of 1600 laser shots. MS/MS spectra were acquired in the presence of collision gas. The sequence of the VGF-NERP1 peptide was confirmed using the LTQ-Orbitrap mass spectrometer (ThermoFisher Scientific, San Jose, CA).'"
      ]
     },
     "execution_count": 5,
     "metadata": {},
     "output_type": "execute_result"
    }
   ],
   "source": [
    "method.iloc[3]"
   ]
  },
  {
   "cell_type": "code",
   "execution_count": 7,
   "metadata": {},
   "outputs": [
    {
     "name": "stdout",
     "output_type": "stream",
     "text": [
      "HPLC-isobaric\n",
      "mass-spectrometry\n",
      "100-mm\n",
      "pre-warmed\n",
      "siRNA-treated\n",
      "siRNA-treated\n",
      "LC-MS\n",
      "2-carboxyethyl\n",
      "mg-C18\n",
      "12-well\n",
      "12-cm\n",
      "pH-gradient\n",
      "LC-MALDI-T\n",
      "in-house\n",
      "on-line\n",
      "α-Cyano-4-h\n",
      "time-of-f\n",
      "time-of-f\n",
      "Batch-mode\n",
      "signal-to-n\n",
      "VGF-NERP1\n",
      "LTQ-Orbitrap\n"
     ]
    }
   ],
   "source": [
    "# finding concentrations\n",
    "hyphen_words = r'\\w+-\\w+(?:-\\w)*'\n",
    "text = method.iloc[3]\n",
    "res = [s for s in re.findall(hyphen_words, text)]\n",
    "for conc in res:\n",
    "    print(conc)"
   ]
  },
  {
   "cell_type": "code",
   "execution_count": 8,
   "metadata": {},
   "outputs": [],
   "source": [
    "def extract_hyphen_words(text):\n",
    "    hyphen_words = r'\\w+-\\w+(?:-\\w)*\\b'\n",
    "    \n",
    "    if type(text) == str:\n",
    "        hyphen_words = [s.lower() for s in re.findall(hyphen_words, text)]\n",
    "        return hyphen_words\n",
    "    else:\n",
    "        return []"
   ]
  },
  {
   "cell_type": "code",
   "execution_count": 9,
   "metadata": {},
   "outputs": [],
   "source": [
    "method = method.to_frame()"
   ]
  },
  {
   "cell_type": "code",
   "execution_count": 10,
   "metadata": {},
   "outputs": [],
   "source": [
    "method['hyphen_words'] = method['sample_protocol'].apply(lambda x: extract_hyphen_words(x))"
   ]
  },
  {
   "cell_type": "code",
   "execution_count": 11,
   "metadata": {},
   "outputs": [
    {
     "data": {
      "text/html": [
       "<div>\n",
       "<style scoped>\n",
       "    .dataframe tbody tr th:only-of-type {\n",
       "        vertical-align: middle;\n",
       "    }\n",
       "\n",
       "    .dataframe tbody tr th {\n",
       "        vertical-align: top;\n",
       "    }\n",
       "\n",
       "    .dataframe thead th {\n",
       "        text-align: right;\n",
       "    }\n",
       "</style>\n",
       "<table border=\"1\" class=\"dataframe\">\n",
       "  <thead>\n",
       "    <tr style=\"text-align: right;\">\n",
       "      <th></th>\n",
       "      <th>sample_protocol</th>\n",
       "      <th>hyphen_words</th>\n",
       "    </tr>\n",
       "  </thead>\n",
       "  <tbody>\n",
       "    <tr>\n",
       "      <th>0</th>\n",
       "      <td>The crude membranes from 5 P56-P70 Glun1TAP/TA...</td>\n",
       "      <td>[p56-p70, re-suspended, immuno-capture, peptid...</td>\n",
       "    </tr>\n",
       "    <tr>\n",
       "      <th>1</th>\n",
       "      <td>Breast cancer tissue lysates, reduction, alkyl...</td>\n",
       "      <td>[methyl-methanethiosulfonate, 8-plex, lc-ms]</td>\n",
       "    </tr>\n",
       "    <tr>\n",
       "      <th>2</th>\n",
       "      <td>In-gel digests were performed as described in ...</td>\n",
       "      <td>[in-gel, sds-page, nano-esi, lc-ms, on-line]</td>\n",
       "    </tr>\n",
       "    <tr>\n",
       "      <th>3</th>\n",
       "      <td>Conditioned media preparation and HPLC-isobari...</td>\n",
       "      <td>[hplc-isobaric, mass-spectrometry, 100-mm, pre...</td>\n",
       "    </tr>\n",
       "    <tr>\n",
       "      <th>4</th>\n",
       "      <td>Proteins were eluted from washed beads by addi...</td>\n",
       "      <td>[2-fold, sds-gel, bis-tris, chromatography-tan...</td>\n",
       "    </tr>\n",
       "    <tr>\n",
       "      <th>5</th>\n",
       "      <td>Exosomes were isolated from 10 healthy volunte...</td>\n",
       "      <td>[j26-xp, ja-17, 50-ml, 22-µm, l-100, fixed-ang...</td>\n",
       "    </tr>\n",
       "    <tr>\n",
       "      <th>6</th>\n",
       "      <td>Low resolution mass spectrometry: For the shot...</td>\n",
       "      <td>[1d-lc, 1d-lc, 2d-lc]</td>\n",
       "    </tr>\n",
       "    <tr>\n",
       "      <th>7</th>\n",
       "      <td>Arabidopsis plants, Wassilewskija background (...</td>\n",
       "      <td>[12-h, percoll-purified, sds-page, in-gel, lc-...</td>\n",
       "    </tr>\n",
       "    <tr>\n",
       "      <th>8</th>\n",
       "      <td>Zebrafish larvae were ground with a pestle in ...</td>\n",
       "      <td>[sigma-aldrich, 10-lane, 4-12, bis-tris, mini-...</td>\n",
       "    </tr>\n",
       "    <tr>\n",
       "      <th>9</th>\n",
       "      <td>Affinity purification and nano-liquid chromato...</td>\n",
       "      <td>[nano-liquid, sirt7-interacting, co-immunoprec...</td>\n",
       "    </tr>\n",
       "    <tr>\n",
       "      <th>10</th>\n",
       "      <td>Protein Extraction from Catheter Biofilm Small...</td>\n",
       "      <td>[urea-containing, 3-cholamidopropyl, 1-propane...</td>\n",
       "    </tr>\n",
       "    <tr>\n",
       "      <th>11</th>\n",
       "      <td>Generation of mDia2-Based Immunocomplexes and ...</td>\n",
       "      <td>[mdia2-based, flag-tagged, full-length, anti-f...</td>\n",
       "    </tr>\n",
       "    <tr>\n",
       "      <th>12</th>\n",
       "      <td>Bands of interest were dehydrated using aceton...</td>\n",
       "      <td>[c-terminal, asp-n, n-terminal, glu-c, c-termi...</td>\n",
       "    </tr>\n",
       "    <tr>\n",
       "      <th>13</th>\n",
       "      <td>Whole Cell Lysis: 109 cells were lysed in 50 m...</td>\n",
       "      <td>[lys-c, n-acetyl, lys-c, lys-c]</td>\n",
       "    </tr>\n",
       "    <tr>\n",
       "      <th>14</th>\n",
       "      <td>See the corresponding sections of the associat...</td>\n",
       "      <td>[]</td>\n",
       "    </tr>\n",
       "    <tr>\n",
       "      <th>15</th>\n",
       "      <td>See details in reference PMID: 24460188</td>\n",
       "      <td>[]</td>\n",
       "    </tr>\n",
       "    <tr>\n",
       "      <th>16</th>\n",
       "      <td>Exponentially-growing cultures of HeLa S3 cell...</td>\n",
       "      <td>[exponentially-growing, flag-ha, c-terminus, f...</td>\n",
       "    </tr>\n",
       "    <tr>\n",
       "      <th>17</th>\n",
       "      <td>For each condition, two 6-well plates of HeLa ...</td>\n",
       "      <td>[6-well, ccl-2tm, time-points, ice-cold]</td>\n",
       "    </tr>\n",
       "    <tr>\n",
       "      <th>18</th>\n",
       "      <td>For peptide extraction from moss tissues and p...</td>\n",
       "      <td>[sigma-aldrich, ultra-turrax, g-25, acetonitri...</td>\n",
       "    </tr>\n",
       "    <tr>\n",
       "      <th>19</th>\n",
       "      <td>The kidney mitochondrial fraction was obtained...</td>\n",
       "      <td>[2de-lc, bio-lyte, 3-10, bio-rad, 2-de, clean-...</td>\n",
       "    </tr>\n",
       "  </tbody>\n",
       "</table>\n",
       "</div>"
      ],
      "text/plain": [
       "                                      sample_protocol  \\\n",
       "0   The crude membranes from 5 P56-P70 Glun1TAP/TA...   \n",
       "1   Breast cancer tissue lysates, reduction, alkyl...   \n",
       "2   In-gel digests were performed as described in ...   \n",
       "3   Conditioned media preparation and HPLC-isobari...   \n",
       "4   Proteins were eluted from washed beads by addi...   \n",
       "5   Exosomes were isolated from 10 healthy volunte...   \n",
       "6   Low resolution mass spectrometry: For the shot...   \n",
       "7   Arabidopsis plants, Wassilewskija background (...   \n",
       "8   Zebrafish larvae were ground with a pestle in ...   \n",
       "9   Affinity purification and nano-liquid chromato...   \n",
       "10  Protein Extraction from Catheter Biofilm Small...   \n",
       "11  Generation of mDia2-Based Immunocomplexes and ...   \n",
       "12  Bands of interest were dehydrated using aceton...   \n",
       "13  Whole Cell Lysis: 109 cells were lysed in 50 m...   \n",
       "14  See the corresponding sections of the associat...   \n",
       "15            See details in reference PMID: 24460188   \n",
       "16  Exponentially-growing cultures of HeLa S3 cell...   \n",
       "17  For each condition, two 6-well plates of HeLa ...   \n",
       "18  For peptide extraction from moss tissues and p...   \n",
       "19  The kidney mitochondrial fraction was obtained...   \n",
       "\n",
       "                                         hyphen_words  \n",
       "0   [p56-p70, re-suspended, immuno-capture, peptid...  \n",
       "1        [methyl-methanethiosulfonate, 8-plex, lc-ms]  \n",
       "2        [in-gel, sds-page, nano-esi, lc-ms, on-line]  \n",
       "3   [hplc-isobaric, mass-spectrometry, 100-mm, pre...  \n",
       "4   [2-fold, sds-gel, bis-tris, chromatography-tan...  \n",
       "5   [j26-xp, ja-17, 50-ml, 22-µm, l-100, fixed-ang...  \n",
       "6                               [1d-lc, 1d-lc, 2d-lc]  \n",
       "7   [12-h, percoll-purified, sds-page, in-gel, lc-...  \n",
       "8   [sigma-aldrich, 10-lane, 4-12, bis-tris, mini-...  \n",
       "9   [nano-liquid, sirt7-interacting, co-immunoprec...  \n",
       "10  [urea-containing, 3-cholamidopropyl, 1-propane...  \n",
       "11  [mdia2-based, flag-tagged, full-length, anti-f...  \n",
       "12  [c-terminal, asp-n, n-terminal, glu-c, c-termi...  \n",
       "13                    [lys-c, n-acetyl, lys-c, lys-c]  \n",
       "14                                                 []  \n",
       "15                                                 []  \n",
       "16  [exponentially-growing, flag-ha, c-terminus, f...  \n",
       "17           [6-well, ccl-2tm, time-points, ice-cold]  \n",
       "18  [sigma-aldrich, ultra-turrax, g-25, acetonitri...  \n",
       "19  [2de-lc, bio-lyte, 3-10, bio-rad, 2-de, clean-...  "
      ]
     },
     "execution_count": 11,
     "metadata": {},
     "output_type": "execute_result"
    }
   ],
   "source": [
    "method.head(20)"
   ]
  },
  {
   "cell_type": "code",
   "execution_count": 12,
   "metadata": {},
   "outputs": [
    {
     "data": {
      "text/plain": [
       "'Whole Cell Lysis: 109 cells were lysed in 50 ml lysis buffer (8M urea, 0.1% RapiGest, 0.1M ammoniumbicarbonate) and disrupted by two cycles of sonication for 20 seconds (Hielscher Ultrasonicator). Protein concentration was determined by BCA assay (Thermo Fisher Scientific) using a small sample aliquot. Lys-C/Trypsin Protein Digestion: Lysates were reduced with 5 mM TCEP for 60 min at 37°C, alkylated with 10 mM iodoacetamide for 30 min in the dark and quenched with 12.5 mM N-acetyl-cysteine. Proteins were digested by addition of Lys-C (Wako) for 4 h at 37°C (protein to Lys-C ration 100:1), diluted to a final urea concentration of 1.5 M with 100 mM ammoniumbicarbonate buffer and further digested by addition of trypsin (Promega) and incubation at 37°C for more than 15 h (protein to trypsin ratio: 50:1). After digestion, the samples were supplemented with TFA to a final concentration of 0.5% and HCl to a final concentration of 50 mM. Peptides were desalted on C18 reversed phase spin columns according to the manufacturer’s instructions (Microspin, Harvard Apparatus), dried under vacuum and stored at -80°C until further processing.'"
      ]
     },
     "execution_count": 12,
     "metadata": {},
     "output_type": "execute_result"
    }
   ],
   "source": [
    "method.iloc[13, 0]"
   ]
  },
  {
   "cell_type": "code",
   "execution_count": null,
   "metadata": {},
   "outputs": [],
   "source": []
  },
  {
   "cell_type": "code",
   "execution_count": null,
   "metadata": {},
   "outputs": [],
   "source": []
  },
  {
   "cell_type": "code",
   "execution_count": null,
   "metadata": {},
   "outputs": [],
   "source": []
  },
  {
   "cell_type": "code",
   "execution_count": null,
   "metadata": {},
   "outputs": [],
   "source": []
  },
  {
   "cell_type": "code",
   "execution_count": null,
   "metadata": {},
   "outputs": [],
   "source": []
  },
  {
   "cell_type": "code",
   "execution_count": null,
   "metadata": {},
   "outputs": [],
   "source": []
  },
  {
   "cell_type": "code",
   "execution_count": null,
   "metadata": {},
   "outputs": [],
   "source": []
  },
  {
   "cell_type": "code",
   "execution_count": null,
   "metadata": {},
   "outputs": [],
   "source": []
  },
  {
   "cell_type": "code",
   "execution_count": null,
   "metadata": {},
   "outputs": [],
   "source": []
  },
  {
   "cell_type": "code",
   "execution_count": null,
   "metadata": {},
   "outputs": [],
   "source": []
  },
  {
   "cell_type": "code",
   "execution_count": null,
   "metadata": {},
   "outputs": [],
   "source": []
  }
 ],
 "metadata": {
  "kernelspec": {
   "display_name": "Python 3",
   "language": "python",
   "name": "python3"
  },
  "language_info": {
   "codemirror_mode": {
    "name": "ipython",
    "version": 3
   },
   "file_extension": ".py",
   "mimetype": "text/x-python",
   "name": "python",
   "nbconvert_exporter": "python",
   "pygments_lexer": "ipython3",
   "version": "3.6.6"
  }
 },
 "nbformat": 4,
 "nbformat_minor": 2
}
